{
 "cells": [
  {
   "cell_type": "markdown",
   "id": "49d64563",
   "metadata": {},
   "source": [
    "# <center> Programming for Data Analysis \n",
    "\n",
    "\n",
    "## <center> Project II - Wisconsin Breast Cancer dataset investigation\n",
    "\n",
    "***"
   ]
  },
  {
   "cell_type": "markdown",
   "id": "b0b10290",
   "metadata": {},
   "source": [
    "GG00411367 Ioan Domsa"
   ]
  },
  {
   "cell_type": "markdown",
   "id": "e00c1b7d",
   "metadata": {},
   "source": [
    "## Project Assignment :\n",
    "\n",
    "***\n",
    "\n",
    "* Undertake an analysis/review of the dataset and present an overview and background\n",
    "\n",
    "* Provide a literature review on classifiers which have been applied to the dataset and compare their performance.\n",
    "\n",
    "* Present a statistical analysis of the dataset.\n",
    "\n",
    "* Using a range of machine learning algorithms, train a set of classifiers on the dataset (using SKLearn etc.) and present classification performance results. Detail your rationale for the parameter selections you made while training the classifiers.\n",
    "\n",
    "* Compare, contrast and critique your results with reference to the literature.\n",
    "\n",
    "* Discuss and investigate how the dataset could be extended – using data synthesis of new tumour datapoints."
   ]
  },
  {
   "cell_type": "markdown",
   "id": "1f2a2214",
   "metadata": {},
   "source": [
    "## About the Breast cancer\n",
    "\n",
    "***\n",
    "    \n",
    "About one in eight women are diagnosed with breast cancer during their lifetime.\n",
    "    \n",
    "Breast cancer is a type of cancer that starts in the breast. It can start in one or both breasts. Cancer starts when cells begin to grow out of control.\n",
    "\n",
    "Most breast lumps (90%) aren't cancerous, but it's always best to have them checked by your doctor.\n",
    "\n",
    "Only the continuously growing tumor causes death. Based on this properties the tumors are mainly of 2 kinds.\n",
    "\n",
    "![Picture Binom](images/tumor.png)\n",
    "\n",
    "* Benign:\n",
    "\n",
    "Benings tumors are not cancerous aren't a threat to invade other tissues.\n",
    "    \n",
    "    \n",
    "* Malignant\n",
    "    \n",
    "Malignment tumors are made of cancer cells and can grow uncontrollably and invade nearby tissues. The cancer cells in a malignant tumor tend to be abnormal, and very different from the normal surrounding tissue."
   ]
  },
  {
   "cell_type": "markdown",
   "id": "07e85be1",
   "metadata": {},
   "source": [
    "## Overwiew of Wisconsin Breast Cancer (Original) Dataset\n",
    "\n",
    "***\n",
    "\n",
    "The Wisconsin Breast Cancer dataset from UCI Machine Learning Repository was created by Dr. WIlliam H. Wolberg (physician) at University of Wisconsin Hospitals, Madison, Wisconsin, USA. Data has been collected since 1989 to 1991.\n",
    "\n",
    "The dataset is available for everyone for research can be downloaded from [UC Irvine Machine Learning Repository](https://archive.ics.uci.edu/ml/datasets/breast+cancer+wisconsin+(original)) [1].\n",
    "\n",
    "The dataset is a classification dataset and has 699 instances of 11 attributes with 16 missing values.\n",
    "\n",
    "The first attribute is for id number and it is unnecessary for research. \n",
    "\n",
    "The number 11 attribute represents class value which has two values 2 and 4, where 2 represents benign and 4 represents malignant. \n",
    "\n",
    "Rest of attributes are ranged from 2 to 10. \n",
    "\n",
    "Pathologist assigned these numbers based on their characteristics. Large value represents greater chance of malignancy.\n",
    "\n",
    "#### Atribute information :\n",
    "\n",
    "1. Sample code number: id number\n",
    "2. Clump Thickness: 1 - 10\n",
    "3. Uniformity of Cell Size: 1 - 10\n",
    "4. Uniformity of Cell Shape: 1 - 10\n",
    "5. Marginal Adhesion: 1 - 10\n",
    "6. Single Epithelial Cell Size: 1 - 10\n",
    "7. Bare Nuclei: 1 - 10\n",
    "8. Bland Chromatin: 1 - 10\n",
    "9. Normal Nucleoli: 1 - 10\n",
    "10. Mitoses: 1 - 10\n",
    "11. Class: (2 for benign, 4 for malignant)"
   ]
  },
  {
   "cell_type": "markdown",
   "id": "b45dbe87",
   "metadata": {},
   "source": [
    "## Literature review\n",
    "\n",
    "Breast cancer is one of the most widespread diseases among women. Correct and early diagnosis is an extremely important step in rehabilitation and treatment. \n",
    "\n",
    "However, it is not an easy one due to several un-certainties in detection using mammograms. Machine Learning techniques can be used to develop tools for physicians that can be used as an effective mechanism for early detection and diagnosis of breast cancer which will greatly enhance the survival rate of patients.\n",
    "\n",
    "There had been numerous research work done on Wisconsin Breast Cancer dataset for prediction of breast cancer. \n",
    "\n",
    "[2] Bazazeh and Shubair (2016) have made a comparison among the three most popular classification techniques, Support Vector Machine (SVM), Random Forest (RF), Bayesian Networks (BN) and claimed that, on this dataset the accuracy of SVM is about 97%. \n",
    "\n",
    "The autors decribe the ML techniques and that these can ve divided into two main categories: supervised and unsupervised learning. In supervised learning, a set of data instances are used to train the machine and are labeled to give the correct result. However, in unsupervised learning, there are no pre-determined data sets and no notion of the expected outcome, which means that the goal is harder to achieve.\n",
    "\n",
    "The Wisconsisn breast cancer dataset fals into clasiication type which is among the most common methods for supervised learning. It uses historical labeled data to develop a model that is then used for future predictions.\n",
    "\n",
    "#### A short overview of the clasifiers used in the reasearch [2] published by Bazazeh and Shubair\n",
    "\n",
    "#### SVM \n",
    "\n",
    "[3] Support Vector Machine (SVM) is a supervised machine learning algorithm that can be used for both classification or regression challenges. However,  it is mostly used in classification problems. Support Vectors are simply the coordinates of individual observation. The SVM classifier is a frontier that best segregates the two classes (hyper-plane/ line).\n",
    "\n",
    "![Picture Binom](images/SVM.png)\n",
    "\n",
    "#### RF \n",
    "\n",
    "[4] Random Forest (RF) is a supervised learning algorithm that is used for both classification as well as regression. However, it is mainly used for classification problems. It creates decision trees on data samples and then gets the prediction from each of them and finally selects the best solution.\n",
    "\n",
    "![Picture Binom](images/RF.png)\n",
    "\n",
    "#### BN\n",
    "\n",
    "[5] A Bayesian Network is a probabilistic graphical model which represents a set of variables and their conditional dependencies using a directed acyclic graph. Bayesian Network can be used for building models from data and experts opinions. A Bayesian Network graph is made up of \"Nodes\" and \"Arcs\" (directed links).\n",
    "\n",
    "![Picture Binom](images/BN.png)"
   ]
  },
  {
   "cell_type": "markdown",
   "id": "e2455fad",
   "metadata": {},
   "source": [
    "https://www.neuraldesigner.com/learning/examples/breast-cancer-diagnosis#:~:text=Epithelial%20cells%20that%20are%20significantly,typically%20seen%20in%20benign%20tumors."
   ]
  },
  {
   "cell_type": "markdown",
   "id": "f8db8361",
   "metadata": {},
   "source": []
  },
  {
   "cell_type": "code",
   "execution_count": null,
   "id": "7ee39816",
   "metadata": {},
   "outputs": [],
   "source": []
  },
  {
   "cell_type": "code",
   "execution_count": null,
   "id": "b2fbe375",
   "metadata": {},
   "outputs": [],
   "source": []
  },
  {
   "cell_type": "code",
   "execution_count": null,
   "id": "7ce90972",
   "metadata": {},
   "outputs": [],
   "source": []
  },
  {
   "cell_type": "code",
   "execution_count": null,
   "id": "d4127d09",
   "metadata": {},
   "outputs": [],
   "source": []
  },
  {
   "cell_type": "code",
   "execution_count": null,
   "id": "87aac240",
   "metadata": {},
   "outputs": [],
   "source": []
  },
  {
   "cell_type": "markdown",
   "id": "eec6204a",
   "metadata": {},
   "source": [
    "## References\n",
    "\n",
    "Literature \n",
    "\n",
    "[1] Breast Cancer Wisconsin (Original) Data Set https://archive.ics.uci.edu/ml/datasets/Breast+Cancer+Wisconsin+%28Original%29\n",
    "\n",
    "[2] Comparative Study of Machine Learning Algorithms for Breast Cancer Detection and Diagnosis  https://www.researchgate.net/publication/320046589_Comparative_Study_of_Machine_Learning_Algorithms_for_Breast_Cancer_Detection_and_Diagnosis\n",
    "\n",
    "[3] Suport Vector Machines https://www.analyticsvidhya.com/blog/2017/09/understaing-support-vector-machine-example-code/\n",
    "\n",
    "[4] Random Forest https://medium.com/analytics-vidhya/random-forest-classifier-and-its-hyperparameters-8467bec755f6\n",
    "\n",
    "[5] Bayesian Network https://www.javatpoint.com/bayesian-belief-network-in-artificial-intelligence\n",
    "\n",
    "https://www.journalbinet.com/uploads/2/1/0/0/21005390/67.02.09.2020_analysis_of_wisconsin_breast_cancer_original_dataset_using_data_mining_and_machine_learning_algorithms_for_breast_cancer_prediction.pdf\n",
    "\n",
    "https://opendatascience.com/building-random-forest-classifier-with-python-scikit-learn/\n",
    "\n",
    "https://www.technologynetworks.com/cancer-research/articles/benign-vs-malignant-tumors-364765\n",
    "\n",
    "https://thetruthaboutcancer.com/benign-malignant-tumors-difference/\n",
    "\n",
    "What Is a Classifier in Machine Learning\n",
    "https://monkeylearn.com/blog/what-is-a-classifier/\n",
    "\n",
    "https://stackabuse.com/overview-of-classification-methods-in-python-with-scikit-learn/\n",
    "\n",
    "https://stackoverflow.com/questions/18575012/centering-text-in-ipython-notebook-markdown-heading-cells#:~:text=For%20text%20alignment%20you%20can,you%20text%20to%20the%20center."
   ]
  }
 ],
 "metadata": {
  "kernelspec": {
   "display_name": "Python 3 (ipykernel)",
   "language": "python",
   "name": "python3"
  },
  "language_info": {
   "codemirror_mode": {
    "name": "ipython",
    "version": 3
   },
   "file_extension": ".py",
   "mimetype": "text/x-python",
   "name": "python",
   "nbconvert_exporter": "python",
   "pygments_lexer": "ipython3",
   "version": "3.9.7"
  }
 },
 "nbformat": 4,
 "nbformat_minor": 5
}
