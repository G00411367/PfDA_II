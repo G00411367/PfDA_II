{
 "cells": [
  {
   "cell_type": "markdown",
   "id": "49d64563",
   "metadata": {},
   "source": [
    "# <center> Programming for Data Analysis \n",
    "\n",
    "\n",
    "## <center> Project II - Wisconsin Breast Cancer dataset investigation\n",
    "\n",
    "***"
   ]
  },
  {
   "cell_type": "markdown",
   "id": "b0b10290",
   "metadata": {},
   "source": [
    "GG00411367 Ioan Domsa"
   ]
  },
  {
   "cell_type": "markdown",
   "id": "e00c1b7d",
   "metadata": {},
   "source": [
    "### Project Assignment :\n",
    "\n",
    "***\n",
    "\n",
    "* Undertake an analysis/review of the dataset and present an overview and background\n",
    "\n",
    "* Provide a literature review on classifiers which have been applied to the dataset and compare their performance.\n",
    "\n",
    "* Present a statistical analysis of the dataset.\n",
    "\n",
    "* Using a range of machine learning algorithms, train a set of classifiers on the dataset (using SKLearn etc.) and present classification performance results. Detail your rationale for the parameter selections you made while training the classifiers.\n",
    "\n",
    "* Compare, contrast and critique your results with reference to the literature.\n",
    "\n",
    "* Discuss and investigate how the dataset could be extended – using data synthesis of new tumour datapoints."
   ]
  },
  {
   "cell_type": "markdown",
   "id": "1f2a2214",
   "metadata": {},
   "source": [
    "### About the Breast cancer\n",
    "\n",
    "***\n",
    "    \n",
    "About one in eight women are diagnosed with breast cancer during their lifetime.\n",
    "    \n",
    "Breast cancer is a type of cancer that starts in the breast. It can start in one or both breasts. Cancer starts when cells begin to grow out of control.\n",
    "\n",
    "Most breast lumps (90%) aren't cancerous, but it's always best to have them checked by your doctor.\n",
    "\n",
    "Only the continuously growing tumor causes death. Based on this properties the tumors are mainly of 2 kinds.\n",
    "\n",
    "![Picture Binom](images/tumor.png)\n",
    "\n",
    "* Benign:\n",
    "\n",
    "Benings tumors are not cancerous aren't a threat to invade other tissues.\n",
    "    \n",
    "    \n",
    "* Malignant\n",
    "    \n",
    "Malignment tumors are made of cancer cells and can grow uncontrollably and invade nearby tissues. The cancer cells in a malignant tumor tend to be abnormal, and very different from the normal surrounding tissue."
   ]
  },
  {
   "cell_type": "markdown",
   "id": "07e85be1",
   "metadata": {},
   "source": [
    "## Overwiew of Wisconsin Breast Cancer (Original) Dataset\n",
    "\n",
    "***\n",
    "\n",
    "The Wisconsin Breast Cancer dataset from UCI Machine Learning Repository was created by Dr. WIlliam H. Wolberg (physician) at University of Wisconsin Hospitals, Madison, Wisconsin, USA. Data has been collected since 1989 to 1991.\n",
    "\n",
    "The dataset is available for everyone for research can be downloaded from [UC Irvine Machine Learning Repository](https://archive.ics.uci.edu/ml/datasets/breast+cancer+wisconsin+(original)).\n",
    "\n",
    "The dataset is a classification dataset and has 699 instances of 11 attributes. \n",
    "\n",
    "The first attribute is for id number and it is unnecessary for research. \n",
    "\n",
    "The number 11 attribute represents class value which has two values 2 and 4, where 2 represents benign and 4 represents malignant. \n",
    "\n",
    "Rest of attributes are ranged from 2 to 10. Pathologist assigned these numbers based on their characteristics. Large value represents greater chance of malignancy.\n",
    "\n",
    "#### Atribute information :\n",
    "\n",
    "1. Sample code number: id number\n",
    "2. Clump Thickness: 1 - 10\n",
    "3. Uniformity of Cell Size: 1 - 10\n",
    "4. Uniformity of Cell Shape: 1 - 10\n",
    "5. Marginal Adhesion: 1 - 10\n",
    "6. Single Epithelial Cell Size: 1 - 10\n",
    "7. Bare Nuclei: 1 - 10\n",
    "8. Bland Chromatin: 1 - 10\n",
    "9. Normal Nucleoli: 1 - 10\n",
    "10. Mitoses: 1 - 10\n",
    "11. Class: (2 for benign, 4 for malignant)"
   ]
  },
  {
   "cell_type": "markdown",
   "id": "b45dbe87",
   "metadata": {},
   "source": [
    "### Literature review"
   ]
  },
  {
   "cell_type": "markdown",
   "id": "e2455fad",
   "metadata": {},
   "source": [
    "https://www.journalbinet.com/uploads/2/1/0/0/21005390/67.02.09.2020_analysis_of_wisconsin_breast_cancer_original_dataset_using_data_mining_and_machine_learning_algorithms_for_breast_cancer_prediction.pdf"
   ]
  },
  {
   "cell_type": "markdown",
   "id": "f8db8361",
   "metadata": {},
   "source": [
    "https://opendatascience.com/building-random-forest-classifier-with-python-scikit-learn/"
   ]
  },
  {
   "cell_type": "code",
   "execution_count": null,
   "id": "7ee39816",
   "metadata": {},
   "outputs": [],
   "source": []
  },
  {
   "cell_type": "code",
   "execution_count": null,
   "id": "b2fbe375",
   "metadata": {},
   "outputs": [],
   "source": []
  },
  {
   "cell_type": "code",
   "execution_count": null,
   "id": "7ce90972",
   "metadata": {},
   "outputs": [],
   "source": []
  },
  {
   "cell_type": "code",
   "execution_count": null,
   "id": "d4127d09",
   "metadata": {},
   "outputs": [],
   "source": []
  },
  {
   "cell_type": "code",
   "execution_count": null,
   "id": "87aac240",
   "metadata": {},
   "outputs": [],
   "source": []
  },
  {
   "cell_type": "markdown",
   "id": "eec6204a",
   "metadata": {},
   "source": [
    "## References\n",
    "\n",
    "Literature https://www.journalbinet.com/uploads/2/1/0/0/21005390/67.02.09.2020_analysis_of_wisconsin_breast_cancer_original_dataset_using_data_mining_and_machine_learning_algorithms_for_breast_cancer_prediction.pdf\n",
    "\n",
    "file:///C:/Users/121994/Downloads/monther,+12300-Article+Text-36825-1-6-20210211.pdf\n",
    "\n",
    "https://www.technologynetworks.com/cancer-research/articles/benign-vs-malignant-tumors-364765\n",
    "\n",
    "https://thetruthaboutcancer.com/benign-malignant-tumors-difference/\n",
    "\n",
    "What Is a Classifier in Machine Learning\n",
    "https://monkeylearn.com/blog/what-is-a-classifier/\n",
    "\n",
    "https://stackabuse.com/overview-of-classification-methods-in-python-with-scikit-learn/\n",
    "\n",
    "https://stackoverflow.com/questions/18575012/centering-text-in-ipython-notebook-markdown-heading-cells#:~:text=For%20text%20alignment%20you%20can,you%20text%20to%20the%20center."
   ]
  }
 ],
 "metadata": {
  "kernelspec": {
   "display_name": "Python 3 (ipykernel)",
   "language": "python",
   "name": "python3"
  },
  "language_info": {
   "codemirror_mode": {
    "name": "ipython",
    "version": 3
   },
   "file_extension": ".py",
   "mimetype": "text/x-python",
   "name": "python",
   "nbconvert_exporter": "python",
   "pygments_lexer": "ipython3",
   "version": "3.9.7"
  }
 },
 "nbformat": 4,
 "nbformat_minor": 5
}
